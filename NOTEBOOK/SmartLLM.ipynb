{
 "cells": [
  {
   "cell_type": "code",
   "execution_count": 7,
   "id": "9022edfe-4c2d-443e-9386-392f6143e764",
   "metadata": {},
   "outputs": [],
   "source": [
    "from langchain.prompts import PromptTemplate\n",
    "from langchain_experimental.smart_llm import SmartLLMChain\n",
    "\n",
    "from langchain_google_genai import ChatGoogleGenerativeAI"
   ]
  },
  {
   "cell_type": "code",
   "execution_count": 37,
   "id": "901aa032-1a42-4492-b6ba-2f0231cd656c",
   "metadata": {},
   "outputs": [],
   "source": [
    "hard_question = \"You have a 12 kg weight and a 6 kg weight, and you want to measure exactly 6 kg How do I do it?.\""
   ]
  },
  {
   "cell_type": "code",
   "execution_count": 38,
   "id": "6342c4a1-8e13-4f0d-b3df-11111508e987",
   "metadata": {},
   "outputs": [],
   "source": [
    "import os\n",
    "prompt = PromptTemplate.from_template(hard_question)\n",
    "\n",
    "# Set the API key as an environment variable\n",
    "os.environ[\"GOOGLE_API_KEY\"] = \"your api key\"\n",
    "\n",
    "# Initialize Model with API key\n",
    "llm = ChatGoogleGenerativeAI(google_api_key=os.environ[\"GOOGLE_API_KEY\"], model=\"gemini-1.5-pro\")\n"
   ]
  },
  {
   "cell_type": "code",
   "execution_count": 39,
   "id": "aadf8e5a-0925-4931-b250-4942c1df583b",
   "metadata": {},
   "outputs": [],
   "source": [
    "chain = SmartLLMChain(llm=llm, prompt=prompt, n_ideas=3, verbose=True)\n"
   ]
  },
  {
   "cell_type": "code",
   "execution_count": 40,
   "id": "6b588a6d-4097-498d-97c0-70c91f4ae8d4",
   "metadata": {},
   "outputs": [
    {
     "name": "stdout",
     "output_type": "stream",
     "text": [
      "\n",
      "\n",
      "\u001b[1m> Entering new SmartLLMChain chain...\u001b[0m\n",
      "Prompt after formatting:\n",
      "\u001b[32;1m\u001b[1;3mYou have a 12 kg weight and a 6 kg weight, and you want to measure exactly 6 kg How do I do it?.\u001b[0m\n",
      "Idea 1:\n",
      "\u001b[36;1m\u001b[1;3mYou already have a 6 kg weight.  You don't need to do anything else to measure exactly 6 kg.\u001b[0m\n",
      "Idea 2:\n",
      "\u001b[36;1m\u001b[1;3mYou already have a 6 kg weight.  You don't need to do anything else to measure exactly 6 kg.  Just use the 6 kg weight.\u001b[0m\n",
      "Idea 3:\n",
      "\u001b[36;1m\u001b[1;3mYou already have a 6 kg weight.  No further measurement is needed. You *have* exactly 6 kg.\u001b[0m\n",
      "Critique:\n",
      "\u001b[33;1m\u001b[1;3mThe question implies a trick, leading us to think we *must* use *both* weights.  All three answers correctly point out the obvious solution, but they fail to address the potential misunderstanding embedded in the question.  Here's a breakdown of their flaws:\n",
      "\n",
      "**Answer 1: \"Let's work this out in a step by step way to be sure we have the right answer:\"**\n",
      "\n",
      "* **Flaw 1 (Incompleteness):**  It sets up the expectation of a step-by-step process but then provides a single-step (and somewhat sarcastic) solution. The \"step-by-step\" promise is unfulfilled.  It doesn't explore the possibility that the question is trying to mislead us.\n",
      "* **Flaw 2 (Ignoring the Implied Constraint):** This response ignores the possibility that the question intends for *both* weights to be involved somehow, even if such a requirement isn't explicitly stated.\n",
      "\n",
      "**Answer 2: \"You already have a 6 kg weight.  You don't need to do anything else to measure exactly 6 kg. Just use the 6 kg weight.\"**\n",
      "\n",
      "* **Flaw 1 (Same as Answer 1 - Ignoring the Implied Constraint):**  It correctly states the simplest solution but fails to acknowledge the potential misdirection in the question.  It doesn't consider why the 12 kg weight is even mentioned.\n",
      "\n",
      "**Answer 3: \"You already have a 6 kg weight.  No further measurement is needed. You *have* exactly 6 kg.\"**\n",
      "\n",
      "* **Flaw 1 (Same as Answers 1 & 2 - Ignoring the Implied Constraint):** This is the most concise answer, but it still suffers from the same core issue: not acknowledging the potential trickery of including the 12 kg weight in the problem statement.\n",
      "\n",
      "\n",
      "In short, all three answers are *correct* in the strictest sense, but they lack critical thinking by failing to analyze why the question might be phrased in a potentially misleading way.  A better answer would address the implied constraint and then explain why the simplest solution is valid despite the presence of the extra weight.\u001b[0m\n",
      "Resolution:\n",
      "\u001b[32;1m\u001b[1;3mThe question presents a seemingly simple weighing problem, but the inclusion of a 12 kg weight alongside the desired 6 kg weight suggests a possible trick or a more complex solution.  However, the simplest solution is indeed the correct one. You already possess a 6 kg weight.  Therefore, to measure exactly 6 kg, you simply use the 6 kg weight. The presence of the 12 kg weight is irrelevant to the task.  It's a red herring meant to make you overthink the problem.\u001b[0m\n",
      "\n",
      "\u001b[1m> Finished chain.\u001b[0m\n"
     ]
    },
    {
     "data": {
      "text/plain": [
       "{'resolution': \"The question presents a seemingly simple weighing problem, but the inclusion of a 12 kg weight alongside the desired 6 kg weight suggests a possible trick or a more complex solution.  However, the simplest solution is indeed the correct one. You already possess a 6 kg weight.  Therefore, to measure exactly 6 kg, you simply use the 6 kg weight. The presence of the 12 kg weight is irrelevant to the task.  It's a red herring meant to make you overthink the problem.\"}"
      ]
     },
     "execution_count": 40,
     "metadata": {},
     "output_type": "execute_result"
    }
   ],
   "source": [
    "chain.invoke({})"
   ]
  },
  {
   "cell_type": "code",
   "execution_count": null,
   "id": "0b5c4539-6c27-4c13-9c31-c15a953ef83c",
   "metadata": {},
   "outputs": [],
   "source": []
  }
 ],
 "metadata": {
  "kernelspec": {
   "display_name": "Python 3 (ipykernel)",
   "language": "python",
   "name": "python3"
  },
  "language_info": {
   "codemirror_mode": {
    "name": "ipython",
    "version": 3
   },
   "file_extension": ".py",
   "mimetype": "text/x-python",
   "name": "python",
   "nbconvert_exporter": "python",
   "pygments_lexer": "ipython3",
   "version": "3.12.8"
  }
 },
 "nbformat": 4,
 "nbformat_minor": 5
}
